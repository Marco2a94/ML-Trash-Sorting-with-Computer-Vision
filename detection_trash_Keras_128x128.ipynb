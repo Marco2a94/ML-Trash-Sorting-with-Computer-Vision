{
 "cells": [
  {
   "cell_type": "markdown",
   "id": "26784f3b",
   "metadata": {},
   "source": [
    "# classification of trash\n",
    "\n",
    "this is a notebook detecated on finding out if a given trash is recyclable or not\n",
    "(sur la branche Thomas)"
   ]
  },
  {
   "cell_type": "markdown",
   "id": "08dd9ad7",
   "metadata": {},
   "source": [
    "### importation des modules\n",
    "\n",
    "pour l'instant je fais avec keras"
   ]
  },
  {
   "cell_type": "code",
   "execution_count": 1,
   "id": "75b8447e",
   "metadata": {},
   "outputs": [],
   "source": [
    "import pandas as pd\n",
    "import numpy as np\n",
    "import os\n",
    "from tensorflow.keras.models import Sequential\n",
    "from tensorflow.keras.layers import Dense, Dropout, Conv2D, Flatten, MaxPooling2D\n",
    "import matplotlib.pyplot as plt\n",
    "import seaborn as sns\n",
    "from PIL import Image\n",
    "from tqdm import tqdm"
   ]
  },
  {
   "cell_type": "markdown",
   "id": "ea478ac6",
   "metadata": {},
   "source": [
    "### chargement des données"
   ]
  },
  {
   "cell_type": "code",
   "execution_count": 2,
   "id": "cc321ff5",
   "metadata": {},
   "outputs": [],
   "source": [
    "def load_data(dir_path):\n",
    "    X=[]\n",
    "    y=[]\n",
    "    \n",
    "    class_map = {'R': 0, 'O': 1}\n",
    "    \n",
    "    for label_folder in ['R', 'O']:\n",
    "        label_path = os.path.join(dir_path, label_folder)\n",
    "        for img_file in tqdm(os.listdir(label_path), desc=f\"Loading {label_folder} images\"):\n",
    "            img_path = os.path.join(label_path, img_file)\n",
    "            try:\n",
    "                img = Image.open(img_path).convert('RGB')\n",
    "                img = img.resize((128, 128))\n",
    "                X.append(np.array(img))\n",
    "                y.append(class_map[label_folder])\n",
    "            except Exception as e:\n",
    "                print(f\"Error loading image {img_path}: {e}\")\n",
    "    X = np.array(X)\n",
    "    y = np.array(y)\n",
    "    return X, y"
   ]
  },
  {
   "cell_type": "markdown",
   "id": "05c1ec60",
   "metadata": {},
   "source": [
    "normalization of the data"
   ]
  },
  {
   "cell_type": "code",
   "execution_count": 3,
   "id": "2f12c9aa",
   "metadata": {},
   "outputs": [
    {
     "name": "stderr",
     "output_type": "stream",
     "text": [
      "Loading R images:   0%|          | 0/9999 [00:00<?, ?it/s]"
     ]
    },
    {
     "name": "stderr",
     "output_type": "stream",
     "text": [
      "Loading R images: 100%|██████████| 9999/9999 [00:12<00:00, 832.39it/s]\n",
      "Loading O images: 100%|██████████| 12565/12565 [00:15<00:00, 816.58it/s]\n"
     ]
    },
    {
     "name": "stdout",
     "output_type": "stream",
     "text": [
      "Training data shape: (22564, 128, 128, 3), Labels shape: (22564,)\n"
     ]
    }
   ],
   "source": [
    "X_train, y_train = load_data('DATASET/TRAIN')\n",
    "\n",
    "print(f\"Training data shape: {X_train.shape}, Labels shape: {y_train.shape}\")"
   ]
  },
  {
   "cell_type": "markdown",
   "id": "f0fa03f8",
   "metadata": {},
   "source": [
    "let us show the data a bit and prepare the data"
   ]
  },
  {
   "cell_type": "code",
   "execution_count": 4,
   "id": "601ab038",
   "metadata": {},
   "outputs": [
    {
     "name": "stdout",
     "output_type": "stream",
     "text": [
      "Number of training samples: 22564\n",
      "Number of classes: 2\n"
     ]
    }
   ],
   "source": [
    "print(f'Number of training samples: {len(X_train)}')\n",
    "print(f'Number of classes: {len(np.unique(y_train))}')"
   ]
  },
  {
   "cell_type": "code",
   "execution_count": 5,
   "id": "5be13770",
   "metadata": {},
   "outputs": [
    {
     "name": "stdout",
     "output_type": "stream",
     "text": [
      "[[[[235 235 233]\n",
      "   [235 235 233]\n",
      "   [235 235 233]\n",
      "   ...\n",
      "   [234 235 230]\n",
      "   [234 235 230]\n",
      "   [234 235 230]]\n",
      "\n",
      "  [[235 235 233]\n",
      "   [235 235 233]\n",
      "   [235 235 233]\n",
      "   ...\n",
      "   [234 235 230]\n",
      "   [234 235 230]\n",
      "   [234 235 230]]\n",
      "\n",
      "  [[235 235 233]\n",
      "   [235 235 233]\n",
      "   [235 235 233]\n",
      "   ...\n",
      "   [234 235 230]\n",
      "   [234 235 230]\n",
      "   [234 235 230]]\n",
      "\n",
      "  ...\n",
      "\n",
      "  [[224 173 142]\n",
      "   [222 171 140]\n",
      "   [219 168 137]\n",
      "   ...\n",
      "   [198 152 126]\n",
      "   [205 159 133]\n",
      "   [212 166 140]]\n",
      "\n",
      "  [[222 171 140]\n",
      "   [220 169 138]\n",
      "   [217 166 135]\n",
      "   ...\n",
      "   [195 149 123]\n",
      "   [203 157 131]\n",
      "   [209 163 137]]\n",
      "\n",
      "  [[221 170 139]\n",
      "   [219 168 137]\n",
      "   [217 166 135]\n",
      "   ...\n",
      "   [194 148 122]\n",
      "   [201 155 129]\n",
      "   [208 162 136]]]\n",
      "\n",
      "\n",
      " [[[255 255 255]\n",
      "   [255 255 255]\n",
      "   [255 255 255]\n",
      "   ...\n",
      "   [255 255 255]\n",
      "   [255 255 255]\n",
      "   [255 255 255]]\n",
      "\n",
      "  [[255 255 255]\n",
      "   [255 255 255]\n",
      "   [255 255 255]\n",
      "   ...\n",
      "   [255 255 255]\n",
      "   [255 255 255]\n",
      "   [255 255 255]]\n",
      "\n",
      "  [[255 255 255]\n",
      "   [255 255 255]\n",
      "   [255 255 255]\n",
      "   ...\n",
      "   [255 255 255]\n",
      "   [255 255 255]\n",
      "   [255 255 255]]\n",
      "\n",
      "  ...\n",
      "\n",
      "  [[255 255 255]\n",
      "   [255 255 255]\n",
      "   [255 255 255]\n",
      "   ...\n",
      "   [255 255 255]\n",
      "   [255 255 255]\n",
      "   [255 255 255]]\n",
      "\n",
      "  [[255 255 255]\n",
      "   [255 255 255]\n",
      "   [255 255 255]\n",
      "   ...\n",
      "   [255 255 255]\n",
      "   [255 255 255]\n",
      "   [255 255 255]]\n",
      "\n",
      "  [[255 255 255]\n",
      "   [255 255 255]\n",
      "   [255 255 255]\n",
      "   ...\n",
      "   [255 255 255]\n",
      "   [255 255 255]\n",
      "   [255 255 255]]]\n",
      "\n",
      "\n",
      " [[[244 245 250]\n",
      "   [246 247 252]\n",
      "   [247 248 253]\n",
      "   ...\n",
      "   [ 80 233 246]\n",
      "   [ 69 219 227]\n",
      "   [ 87 177 203]]\n",
      "\n",
      "  [[241 242 247]\n",
      "   [242 243 248]\n",
      "   [243 244 249]\n",
      "   ...\n",
      "   [ 78 237 247]\n",
      "   [ 47 202 208]\n",
      "   [ 67 185 201]]\n",
      "\n",
      "  [[241 242 247]\n",
      "   [239 240 244]\n",
      "   [240 241 246]\n",
      "   ...\n",
      "   [116 247 253]\n",
      "   [ 93 213 225]\n",
      "   [ 67 179 200]]\n",
      "\n",
      "  ...\n",
      "\n",
      "  [[255 253 247]\n",
      "   [253 251 246]\n",
      "   [254 253 248]\n",
      "   ...\n",
      "   [255 254 249]\n",
      "   [255 255 249]\n",
      "   [255 255 249]]\n",
      "\n",
      "  [[255 255 254]\n",
      "   [255 255 253]\n",
      "   [255 255 254]\n",
      "   ...\n",
      "   [255 254 254]\n",
      "   [255 254 254]\n",
      "   [255 254 254]]\n",
      "\n",
      "  [[253 255 255]\n",
      "   [253 255 255]\n",
      "   [253 255 255]\n",
      "   ...\n",
      "   [255 253 255]\n",
      "   [255 253 255]\n",
      "   [255 253 255]]]\n",
      "\n",
      "\n",
      " ...\n",
      "\n",
      "\n",
      " [[[252 252 254]\n",
      "   [254 254 255]\n",
      "   [255 255 254]\n",
      "   ...\n",
      "   [254 254 253]\n",
      "   [255 255 255]\n",
      "   [252 252 252]]\n",
      "\n",
      "  [[250 249 250]\n",
      "   [253 253 254]\n",
      "   [255 255 255]\n",
      "   ...\n",
      "   [254 254 255]\n",
      "   [255 255 253]\n",
      "   [254 254 251]]\n",
      "\n",
      "  [[255 254 255]\n",
      "   [254 252 251]\n",
      "   [247 244 239]\n",
      "   ...\n",
      "   [223 224 217]\n",
      "   [238 239 234]\n",
      "   [252 252 249]]\n",
      "\n",
      "  ...\n",
      "\n",
      "  [[255 255 255]\n",
      "   [255 255 255]\n",
      "   [254 254 254]\n",
      "   ...\n",
      "   [252 252 252]\n",
      "   [253 253 253]\n",
      "   [254 254 254]]\n",
      "\n",
      "  [[255 255 255]\n",
      "   [255 255 255]\n",
      "   [255 255 255]\n",
      "   ...\n",
      "   [254 254 254]\n",
      "   [255 255 255]\n",
      "   [255 255 255]]\n",
      "\n",
      "  [[255 255 255]\n",
      "   [255 255 255]\n",
      "   [255 255 255]\n",
      "   ...\n",
      "   [255 255 255]\n",
      "   [255 255 255]\n",
      "   [255 255 255]]]\n",
      "\n",
      "\n",
      " [[[255 255 255]\n",
      "   [255 255 255]\n",
      "   [255 255 255]\n",
      "   ...\n",
      "   [255 255 255]\n",
      "   [255 255 255]\n",
      "   [255 255 255]]\n",
      "\n",
      "  [[255 255 255]\n",
      "   [255 255 255]\n",
      "   [255 255 255]\n",
      "   ...\n",
      "   [255 255 255]\n",
      "   [255 255 255]\n",
      "   [255 255 255]]\n",
      "\n",
      "  [[255 255 255]\n",
      "   [255 255 255]\n",
      "   [255 255 255]\n",
      "   ...\n",
      "   [255 255 255]\n",
      "   [255 255 255]\n",
      "   [255 255 255]]\n",
      "\n",
      "  ...\n",
      "\n",
      "  [[255 255 255]\n",
      "   [255 255 255]\n",
      "   [255 255 255]\n",
      "   ...\n",
      "   [255 255 255]\n",
      "   [255 255 255]\n",
      "   [255 255 255]]\n",
      "\n",
      "  [[255 255 255]\n",
      "   [255 255 255]\n",
      "   [255 255 255]\n",
      "   ...\n",
      "   [255 255 255]\n",
      "   [255 255 255]\n",
      "   [255 255 255]]\n",
      "\n",
      "  [[255 255 255]\n",
      "   [255 255 255]\n",
      "   [255 255 255]\n",
      "   ...\n",
      "   [255 255 255]\n",
      "   [255 255 255]\n",
      "   [255 255 255]]]\n",
      "\n",
      "\n",
      " [[[ 51  46  43]\n",
      "   [ 52  47  44]\n",
      "   [ 53  48  45]\n",
      "   ...\n",
      "   [ 52  47  43]\n",
      "   [ 56  51  47]\n",
      "   [ 58  53  49]]\n",
      "\n",
      "  [[ 51  46  43]\n",
      "   [ 52  47  44]\n",
      "   [ 53  48  45]\n",
      "   ...\n",
      "   [ 53  48  44]\n",
      "   [ 55  50  46]\n",
      "   [ 57  52  48]]\n",
      "\n",
      "  [[ 51  46  43]\n",
      "   [ 52  47  44]\n",
      "   [ 53  48  45]\n",
      "   ...\n",
      "   [ 57  50  44]\n",
      "   [ 57  50  44]\n",
      "   [ 58  51  45]]\n",
      "\n",
      "  ...\n",
      "\n",
      "  [[ 79  71  69]\n",
      "   [ 69  61  59]\n",
      "   [ 65  57  55]\n",
      "   ...\n",
      "   [ 67  62  59]\n",
      "   [ 60  55  52]\n",
      "   [ 55  50  47]]\n",
      "\n",
      "  [[ 76  68  66]\n",
      "   [ 63  55  53]\n",
      "   [ 62  54  52]\n",
      "   ...\n",
      "   [ 68  63  60]\n",
      "   [ 63  58  55]\n",
      "   [ 57  52  49]]\n",
      "\n",
      "  [[ 70  62  60]\n",
      "   [ 62  54  52]\n",
      "   [ 63  55  53]\n",
      "   ...\n",
      "   [ 68  63  60]\n",
      "   [ 72  67  64]\n",
      "   [ 71  66  63]]]]\n"
     ]
    }
   ],
   "source": [
    "print(X_train)"
   ]
  },
  {
   "cell_type": "code",
   "execution_count": 6,
   "id": "c5bf85ab",
   "metadata": {},
   "outputs": [
    {
     "name": "stdout",
     "output_type": "stream",
     "text": [
      "[0 0 0 ... 1 1 1]\n"
     ]
    }
   ],
   "source": [
    "print(y_train)"
   ]
  },
  {
   "cell_type": "code",
   "execution_count": 7,
   "id": "ea849760",
   "metadata": {},
   "outputs": [
    {
     "name": "stdout",
     "output_type": "stream",
     "text": [
      "[0 0 0 0 0 0 0 0 0 0 1 1 1 1 1 1 1 1 1 1 1 1 1]\n"
     ]
    }
   ],
   "source": [
    "print(y_train[0:22564:1000])"
   ]
  },
  {
   "cell_type": "code",
   "execution_count": 8,
   "id": "6a53f835",
   "metadata": {},
   "outputs": [
    {
     "name": "stdout",
     "output_type": "stream",
     "text": [
      "1\n"
     ]
    }
   ],
   "source": [
    "print(y_train.ndim)"
   ]
  },
  {
   "cell_type": "code",
   "execution_count": 9,
   "id": "cabd0dbb",
   "metadata": {},
   "outputs": [
    {
     "name": "stdout",
     "output_type": "stream",
     "text": [
      "(128, 128, 3)\n",
      "[[[235 235 233]\n",
      "  [235 235 233]\n",
      "  [235 235 233]\n",
      "  ...\n",
      "  [234 235 230]\n",
      "  [234 235 230]\n",
      "  [234 235 230]]\n",
      "\n",
      " [[235 235 233]\n",
      "  [235 235 233]\n",
      "  [235 235 233]\n",
      "  ...\n",
      "  [234 235 230]\n",
      "  [234 235 230]\n",
      "  [234 235 230]]\n",
      "\n",
      " [[235 235 233]\n",
      "  [235 235 233]\n",
      "  [235 235 233]\n",
      "  ...\n",
      "  [234 235 230]\n",
      "  [234 235 230]\n",
      "  [234 235 230]]\n",
      "\n",
      " ...\n",
      "\n",
      " [[224 173 142]\n",
      "  [222 171 140]\n",
      "  [219 168 137]\n",
      "  ...\n",
      "  [198 152 126]\n",
      "  [205 159 133]\n",
      "  [212 166 140]]\n",
      "\n",
      " [[222 171 140]\n",
      "  [220 169 138]\n",
      "  [217 166 135]\n",
      "  ...\n",
      "  [195 149 123]\n",
      "  [203 157 131]\n",
      "  [209 163 137]]\n",
      "\n",
      " [[221 170 139]\n",
      "  [219 168 137]\n",
      "  [217 166 135]\n",
      "  ...\n",
      "  [194 148 122]\n",
      "  [201 155 129]\n",
      "  [208 162 136]]]\n"
     ]
    }
   ],
   "source": [
    "print(X_train[0].shape)\n",
    "print(X_train[0])"
   ]
  },
  {
   "cell_type": "code",
   "execution_count": 10,
   "id": "b285b1d5",
   "metadata": {},
   "outputs": [
    {
     "name": "stdout",
     "output_type": "stream",
     "text": [
      "[[[0.92156863 0.92156863 0.9137255 ]\n",
      "  [0.92156863 0.92156863 0.9137255 ]\n",
      "  [0.92156863 0.92156863 0.9137255 ]\n",
      "  ...\n",
      "  [0.91764706 0.92156863 0.9019608 ]\n",
      "  [0.91764706 0.92156863 0.9019608 ]\n",
      "  [0.91764706 0.92156863 0.9019608 ]]\n",
      "\n",
      " [[0.92156863 0.92156863 0.9137255 ]\n",
      "  [0.92156863 0.92156863 0.9137255 ]\n",
      "  [0.92156863 0.92156863 0.9137255 ]\n",
      "  ...\n",
      "  [0.91764706 0.92156863 0.9019608 ]\n",
      "  [0.91764706 0.92156863 0.9019608 ]\n",
      "  [0.91764706 0.92156863 0.9019608 ]]\n",
      "\n",
      " [[0.92156863 0.92156863 0.9137255 ]\n",
      "  [0.92156863 0.92156863 0.9137255 ]\n",
      "  [0.92156863 0.92156863 0.9137255 ]\n",
      "  ...\n",
      "  [0.91764706 0.92156863 0.9019608 ]\n",
      "  [0.91764706 0.92156863 0.9019608 ]\n",
      "  [0.91764706 0.92156863 0.9019608 ]]\n",
      "\n",
      " ...\n",
      "\n",
      " [[0.8784314  0.6784314  0.5568628 ]\n",
      "  [0.87058824 0.67058825 0.54901963]\n",
      "  [0.85882354 0.65882355 0.5372549 ]\n",
      "  ...\n",
      "  [0.7764706  0.59607846 0.49411765]\n",
      "  [0.8039216  0.62352943 0.52156866]\n",
      "  [0.83137256 0.6509804  0.54901963]]\n",
      "\n",
      " [[0.87058824 0.67058825 0.54901963]\n",
      "  [0.8627451  0.6627451  0.5411765 ]\n",
      "  [0.8509804  0.6509804  0.5294118 ]\n",
      "  ...\n",
      "  [0.7647059  0.58431375 0.48235294]\n",
      "  [0.79607844 0.6156863  0.5137255 ]\n",
      "  [0.81960785 0.6392157  0.5372549 ]]\n",
      "\n",
      " [[0.8666667  0.6666667  0.54509807]\n",
      "  [0.85882354 0.65882355 0.5372549 ]\n",
      "  [0.8509804  0.6509804  0.5294118 ]\n",
      "  ...\n",
      "  [0.7607843  0.5803922  0.47843137]\n",
      "  [0.7882353  0.60784316 0.5058824 ]\n",
      "  [0.8156863  0.63529414 0.53333336]]]\n"
     ]
    }
   ],
   "source": [
    "X_train = X_train.astype('float32') / 255.0\n",
    "print(X_train[0])"
   ]
  },
  {
   "cell_type": "code",
   "execution_count": 11,
   "id": "615d8503",
   "metadata": {},
   "outputs": [],
   "source": [
    "def show_image(X, y, index):\n",
    "    classes = ['R', 'O']\n",
    "    plt.figure(figsize=(15,2))\n",
    "    plt.imshow(X[index])\n",
    "    plt.xlabel(classes[y[index]])"
   ]
  },
  {
   "cell_type": "code",
   "execution_count": 12,
   "id": "ddd5d308",
   "metadata": {},
   "outputs": [
    {
     "data": {
      "image/png": "[encoded data removed]",
      "text/plain": [
       "<Figure size 1500x200 with 1 Axes>"
      ]
     },
     "metadata": {},
     "output_type": "display_data"
    }
   ],
   "source": [
    "show_image(X_train, y_train, 0)"
   ]
  },
  {
   "cell_type": "markdown",
   "id": "1bd105be",
   "metadata": {},
   "source": [
    "### Classyfing using CNN\n",
    "\n",
    "without using dropout, batch_size so it may be prone to overfitting"
   ]
  },
  {
   "cell_type": "code",
   "execution_count": 13,
   "id": "345f9a70",
   "metadata": {},
   "outputs": [
    {
     "name": "stderr",
     "output_type": "stream",
     "text": [
      "c:\\Users\\LEGION\\anaconda3\\Lib\\site-packages\\keras\\src\\layers\\convolutional\\base_conv.py:107: UserWarning: Do not pass an `input_shape`/`input_dim` argument to a layer. When using Sequential models, prefer using an `Input(shape)` object as the first layer in the model instead.\n",
      "  super().__init__(activity_regularizer=activity_regularizer, **kwargs)\n"
     ]
    }
   ],
   "source": [
    "classification_model = Sequential([\n",
    "    Conv2D(filters=64, kernel_size = (3, 3), activation='relu', input_shape=(128, 128, 3)),\n",
    "    MaxPooling2D((3,3)),\n",
    "    Conv2D(filters=64, kernel_size = (3, 3), activation='relu'),\n",
    "    MaxPooling2D((3,3)),\n",
    "    \n",
    "    Flatten(),\n",
    "    Dense(128, activation='relu'),\n",
    "    Dropout(0.5),\n",
    "    Dense(64, activation='relu'),\n",
    "    Dense(2, activation='softmax')\n",
    "])"
   ]
  },
  {
   "cell_type": "code",
   "execution_count": 14,
   "id": "bebc4b81",
   "metadata": {},
   "outputs": [],
   "source": [
    "classification_model.compile(optimizer=\"adam\",\n",
    "                             loss='sparse_categorical_crossentropy',\n",
    "                             metrics=['accuracy'])"
   ]
  },
  {
   "cell_type": "code",
   "execution_count": 15,
   "id": "ddf501cf",
   "metadata": {},
   "outputs": [
    {
     "name": "stdout",
     "output_type": "stream",
     "text": [
      "Epoch 1/15\n",
      "\u001b[1m706/706\u001b[0m \u001b[32m━━━━━━━━━━━━━━━━━━━━\u001b[0m\u001b[37m\u001b[0m \u001b[1m95s\u001b[0m 131ms/step - accuracy: 0.7766 - loss: 0.4861\n",
      "Epoch 2/15\n",
      "\u001b[1m706/706\u001b[0m \u001b[32m━━━━━━━━━━━━━━━━━━━━\u001b[0m\u001b[37m\u001b[0m \u001b[1m92s\u001b[0m 130ms/step - accuracy: 0.8427 - loss: 0.3695\n",
      "Epoch 3/15\n",
      "\u001b[1m706/706\u001b[0m \u001b[32m━━━━━━━━━━━━━━━━━━━━\u001b[0m\u001b[37m\u001b[0m \u001b[1m92s\u001b[0m 130ms/step - accuracy: 0.8646 - loss: 0.3348\n",
      "Epoch 4/15\n",
      "\u001b[1m706/706\u001b[0m \u001b[32m━━━━━━━━━━━━━━━━━━━━\u001b[0m\u001b[37m\u001b[0m \u001b[1m92s\u001b[0m 130ms/step - accuracy: 0.8703 - loss: 0.3185\n",
      "Epoch 5/15\n",
      "\u001b[1m706/706\u001b[0m \u001b[32m━━━━━━━━━━━━━━━━━━━━\u001b[0m\u001b[37m\u001b[0m \u001b[1m95s\u001b[0m 135ms/step - accuracy: 0.8800 - loss: 0.2979\n",
      "Epoch 6/15\n",
      "\u001b[1m706/706\u001b[0m \u001b[32m━━━━━━━━━━━━━━━━━━━━\u001b[0m\u001b[37m\u001b[0m \u001b[1m93s\u001b[0m 132ms/step - accuracy: 0.8923 - loss: 0.2671\n",
      "Epoch 7/15\n",
      "\u001b[1m706/706\u001b[0m \u001b[32m━━━━━━━━━━━━━━━━━━━━\u001b[0m\u001b[37m\u001b[0m \u001b[1m93s\u001b[0m 132ms/step - accuracy: 0.9038 - loss: 0.2436\n",
      "Epoch 8/15\n",
      "\u001b[1m706/706\u001b[0m \u001b[32m━━━━━━━━━━━━━━━━━━━━\u001b[0m\u001b[37m\u001b[0m \u001b[1m93s\u001b[0m 132ms/step - accuracy: 0.9200 - loss: 0.2178\n",
      "Epoch 9/15\n",
      "\u001b[1m706/706\u001b[0m \u001b[32m━━━━━━━━━━━━━━━━━━━━\u001b[0m\u001b[37m\u001b[0m \u001b[1m93s\u001b[0m 132ms/step - accuracy: 0.9226 - loss: 0.1961\n",
      "Epoch 10/15\n",
      "\u001b[1m706/706\u001b[0m \u001b[32m━━━━━━━━━━━━━━━━━━━━\u001b[0m\u001b[37m\u001b[0m \u001b[1m93s\u001b[0m 132ms/step - accuracy: 0.9370 - loss: 0.1665\n",
      "Epoch 11/15\n",
      "\u001b[1m706/706\u001b[0m \u001b[32m━━━━━━━━━━━━━━━━━━━━\u001b[0m\u001b[37m\u001b[0m \u001b[1m94s\u001b[0m 133ms/step - accuracy: 0.9438 - loss: 0.1543\n",
      "Epoch 12/15\n",
      "\u001b[1m706/706\u001b[0m \u001b[32m━━━━━━━━━━━━━━━━━━━━\u001b[0m\u001b[37m\u001b[0m \u001b[1m94s\u001b[0m 134ms/step - accuracy: 0.9492 - loss: 0.1303\n",
      "Epoch 13/15\n",
      "\u001b[1m706/706\u001b[0m \u001b[32m━━━━━━━━━━━━━━━━━━━━\u001b[0m\u001b[37m\u001b[0m \u001b[1m93s\u001b[0m 132ms/step - accuracy: 0.9571 - loss: 0.1145\n",
      "Epoch 14/15\n",
      "\u001b[1m706/706\u001b[0m \u001b[32m━━━━━━━━━━━━━━━━━━━━\u001b[0m\u001b[37m\u001b[0m \u001b[1m93s\u001b[0m 132ms/step - accuracy: 0.9624 - loss: 0.1056\n",
      "Epoch 15/15\n",
      "\u001b[1m706/706\u001b[0m \u001b[32m━━━━━━━━━━━━━━━━━━━━\u001b[0m\u001b[37m\u001b[0m \u001b[1m93s\u001b[0m 132ms/step - accuracy: 0.9633 - loss: 0.0967\n"
     ]
    },
    {
     "data": {
      "text/plain": [
       "<keras.src.callbacks.history.History at 0x2819c755f10>"
      ]
     },
     "execution_count": 15,
     "metadata": {},
     "output_type": "execute_result"
    }
   ],
   "source": [
    "classification_model.fit(X_train, y_train, epochs=15)"
   ]
  },
  {
   "cell_type": "markdown",
   "id": "ae06287f",
   "metadata": {},
   "source": [
    "### let us test with our testing data"
   ]
  },
  {
   "cell_type": "code",
   "execution_count": 16,
   "id": "853bc8af",
   "metadata": {},
   "outputs": [
    {
     "name": "stderr",
     "output_type": "stream",
     "text": [
      "Loading R images: 100%|██████████| 1112/1112 [00:01<00:00, 651.74it/s]\n",
      "Loading O images: 100%|██████████| 1401/1401 [00:02<00:00, 629.24it/s]\n"
     ]
    }
   ],
   "source": [
    "X_test, y_test = load_data('DATASET/TEST')"
   ]
  },
  {
   "cell_type": "code",
   "execution_count": 17,
   "id": "3d8ba1eb",
   "metadata": {},
   "outputs": [
    {
     "name": "stdout",
     "output_type": "stream",
     "text": [
      "Training data shape: (2513, 128, 128, 3), Labels shape: (2513,)\n"
     ]
    }
   ],
   "source": [
    "print(f\"Training data shape: {X_test.shape}, Labels shape: {y_test.shape}\")"
   ]
  },
  {
   "cell_type": "code",
   "execution_count": 18,
   "id": "0394e71e",
   "metadata": {},
   "outputs": [
    {
     "name": "stdout",
     "output_type": "stream",
     "text": [
      "(128, 128, 3)\n",
      "[[[131  55  51]\n",
      "  [121 109  86]\n",
      "  [182 166 150]\n",
      "  ...\n",
      "  [170 174 151]\n",
      "  [137 126 102]\n",
      "  [120  70  56]]\n",
      "\n",
      " [[131  31  33]\n",
      "  [105  60  46]\n",
      "  [132 112  96]\n",
      "  ...\n",
      "  [141 131 111]\n",
      "  [115  67  55]\n",
      "  [126  49  43]]\n",
      "\n",
      " [[ 84  11   9]\n",
      "  [130  55  50]\n",
      "  [ 82  58  40]\n",
      "  ...\n",
      "  [ 90  60  44]\n",
      "  [123  66  54]\n",
      "  [ 95   9   8]]\n",
      "\n",
      " ...\n",
      "\n",
      " [[128 119 102]\n",
      "  [128 119 102]\n",
      "  [129 120 103]\n",
      "  ...\n",
      "  [132 119 103]\n",
      "  [131 118 102]\n",
      "  [131 118 102]]\n",
      "\n",
      " [[127 118 100]\n",
      "  [127 118 101]\n",
      "  [128 119 102]\n",
      "  ...\n",
      "  [130 118 102]\n",
      "  [129 117 101]\n",
      "  [129 117 101]]\n",
      "\n",
      " [[126 118  99]\n",
      "  [126 118  99]\n",
      "  [127 119 100]\n",
      "  ...\n",
      "  [127 118 101]\n",
      "  [126 117 100]\n",
      "  [126 117 100]]]\n"
     ]
    }
   ],
   "source": [
    "print(X_test[0].shape)\n",
    "print(X_test[0])"
   ]
  },
  {
   "cell_type": "code",
   "execution_count": 19,
   "id": "db398d87",
   "metadata": {},
   "outputs": [
    {
     "name": "stdout",
     "output_type": "stream",
     "text": [
      "(2513,)\n",
      "[0 0 1]\n",
      "1\n"
     ]
    }
   ],
   "source": [
    "print(y_test.shape)\n",
    "print(y_test[0:22564:1000])\n",
    "print(y_test.ndim)"
   ]
  },
  {
   "cell_type": "code",
   "execution_count": 20,
   "id": "5aeb9b44",
   "metadata": {},
   "outputs": [
    {
     "name": "stdout",
     "output_type": "stream",
     "text": [
      "\u001b[1m79/79\u001b[0m \u001b[32m━━━━━━━━━━━━━━━━━━━━\u001b[0m\u001b[37m\u001b[0m \u001b[1m3s\u001b[0m 40ms/step\n"
     ]
    }
   ],
   "source": [
    "from sklearn.metrics import classification_report, confusion_matrix\n",
    "y_pred = classification_model.predict(X_test)\n",
    "y_pred_classes = np.argmax(y_pred, axis=1)\n"
   ]
  },
  {
   "cell_type": "code",
   "execution_count": 21,
   "id": "2bba2b61",
   "metadata": {},
   "outputs": [
    {
     "data": {
      "image/png": "[encoded data removed]",
      "text/plain": [
       "<Figure size 1000x700 with 2 Axes>"
      ]
     },
     "metadata": {},
     "output_type": "display_data"
    },
    {
     "name": "stdout",
     "output_type": "stream",
     "text": [
      "              precision    recall  f1-score   support\n",
      "\n",
      "           R       0.82      0.89      0.85      1112\n",
      "           O       0.91      0.84      0.87      1401\n",
      "\n",
      "    accuracy                           0.87      2513\n",
      "   macro avg       0.86      0.87      0.86      2513\n",
      "weighted avg       0.87      0.87      0.87      2513\n",
      "\n"
     ]
    }
   ],
   "source": [
    "cm = confusion_matrix(y_test, y_pred_classes)\n",
    "plt.figure(figsize=(10, 7))\n",
    "sns.heatmap(cm, annot=True, fmt='d', cmap='Blues', xticklabels=['R', 'O'], yticklabels=['R', 'O'])\n",
    "plt.xlabel('Predicted')\n",
    "plt.ylabel('True')\n",
    "plt.title('Confusion Matrix')\n",
    "plt.show()\n",
    "print(classification_report(y_test, y_pred_classes, target_names=['R', 'O']))"
   ]
  },
  {
   "cell_type": "code",
   "execution_count": 22,
   "id": "5b690fd3",
   "metadata": {},
   "outputs": [
    {
     "name": "stdout",
     "output_type": "stream",
     "text": [
      "\u001b[1m79/79\u001b[0m \u001b[32m━━━━━━━━━━━━━━━━━━━━\u001b[0m\u001b[37m\u001b[0m \u001b[1m3s\u001b[0m 39ms/step - accuracy: 0.9071 - loss: 41.0842\n",
      "Test Loss: 72.52112579345703, Test Accuracy: 0.8651014566421509\n"
     ]
    }
   ],
   "source": [
    "eval = classification_model.evaluate(X_test, y_test)\n",
    "print(f\"Test Loss: {eval[0]}, Test Accuracy: {eval[1]}\")"
   ]
  },
  {
   "cell_type": "code",
   "execution_count": 23,
   "id": "c04e66aa",
   "metadata": {},
   "outputs": [
    {
     "name": "stdout",
     "output_type": "stream",
     "text": [
      "the accuracy of the model is: 86.51%\n"
     ]
    }
   ],
   "source": [
    "print(f\"the accuracy of the model is: {eval[1] * 100:.2f}%\")"
   ]
  }
 ],
 "metadata": {
  "kernelspec": {
   "display_name": "base",
   "language": "python",
   "name": "python3"
  },
  "language_info": {
   "codemirror_mode": {
    "name": "ipython",
    "version": 3
   },
   "file_extension": ".py",
   "mimetype": "text/x-python",
   "name": "python",
   "nbconvert_exporter": "python",
   "pygments_lexer": "ipython3",
   "version": "3.11.7"
  }
 },
 "nbformat": 4,
 "nbformat_minor": 5
}
