{
 "cells": [
  {
   "cell_type": "markdown",
   "id": "26784f3b",
   "metadata": {},
   "source": [
    "# classification of trash\n",
    "\n",
    "this is a notebook detecated on finding out if a given trash is recyclable or not\n",
    "(sur la branche Thomas)"
   ]
  },
  {
   "cell_type": "markdown",
   "id": "08dd9ad7",
   "metadata": {},
   "source": [
    "### importation des modules\n",
    "\n",
    "pour l'instant je fais avec keras"
   ]
  },
  {
   "cell_type": "code",
   "execution_count": null,
   "id": "75b8447e",
   "metadata": {},
   "outputs": [],
   "source": [
    "import pandas as pd\n",
    "import numpy as np\n",
    "import os\n",
    "from tensorflow.keras.models import Sequential\n",
    "from tensorflow.keras.layers import Dense, Dropout, Conv2D, Flatten, MaxPooling2D\n",
    "import matplotlib.pyplot as plt\n",
    "import seaborn as sns\n",
    "from PIL import Image\n",
    "from tqdm import tqdm"
   ]
  },
  {
   "cell_type": "markdown",
   "id": "ea478ac6",
   "metadata": {},
   "source": [
    "### chargement des données"
   ]
  },
  {
   "cell_type": "code",
   "execution_count": 2,
   "id": "cc321ff5",
   "metadata": {},
   "outputs": [],
   "source": [
    "def load_data(dir_path):\n",
    "    X=[]\n",
    "    y=[]\n",
    "    \n",
    "    class_map = {'R': 0, 'O': 1}\n",
    "    \n",
    "    for label_folder in ['R', 'O']:\n",
    "        label_path = os.path.join(dir_path, label_folder)\n",
    "        for img_file in tqdm(os.listdir(label_path), desc=f\"Loading {label_folder} images\"):\n",
    "            img_path = os.path.join(label_path, img_file)\n",
    "            try:\n",
    "                img = Image.open(img_path).convert('RGB')\n",
    "                img = img.resize((64, 64))\n",
    "                X.append(np.array(img))\n",
    "                y.append(class_map[label_folder])\n",
    "            except Exception as e:\n",
    "                print(f\"Error loading image {img_path}: {e}\")\n",
    "    X = np.array(X)\n",
    "    y = np.array(y)\n",
    "    return X, y"
   ]
  },
  {
   "cell_type": "markdown",
   "id": "05c1ec60",
   "metadata": {},
   "source": [
    "normalization of the data"
   ]
  },
  {
   "cell_type": "code",
   "execution_count": 3,
   "id": "2f12c9aa",
   "metadata": {},
   "outputs": [
    {
     "name": "stderr",
     "output_type": "stream",
     "text": [
      "Loading R images: 100%|██████████| 9999/9999 [01:06<00:00, 149.52it/s]\n",
      "Loading O images: 100%|██████████| 12565/12565 [00:57<00:00, 218.12it/s]\n"
     ]
    },
    {
     "name": "stdout",
     "output_type": "stream",
     "text": [
      "Training data shape: (22564, 64, 64, 3), Labels shape: (22564,)\n"
     ]
    }
   ],
   "source": [
    "X_train, y_train = load_data('DATASET/TRAIN')\n",
    "\n",
    "print(f\"Training data shape: {X_train.shape}, Labels shape: {y_train.shape}\")"
   ]
  },
  {
   "cell_type": "markdown",
   "id": "f0fa03f8",
   "metadata": {},
   "source": [
    "let us show the data a bit and prepare the data"
   ]
  },
  {
   "cell_type": "code",
   "execution_count": 4,
   "id": "601ab038",
   "metadata": {},
   "outputs": [
    {
     "name": "stdout",
     "output_type": "stream",
     "text": [
      "Number of training samples: 22564\n",
      "Number of classes: 2\n"
     ]
    }
   ],
   "source": [
    "print(f'Number of training samples: {len(X_train)}')\n",
    "print(f'Number of classes: {len(np.unique(y_train))}')"
   ]
  },
  {
   "cell_type": "code",
   "execution_count": 5,
   "id": "5be13770",
   "metadata": {},
   "outputs": [
    {
     "name": "stdout",
     "output_type": "stream",
     "text": [
      "[[[[235 235 233]\n",
      "   [235 235 233]\n",
      "   [237 237 235]\n",
      "   ...\n",
      "   [234 235 230]\n",
      "   [234 235 230]\n",
      "   [234 235 230]]\n",
      "\n",
      "  [[235 235 233]\n",
      "   [235 235 233]\n",
      "   [236 236 234]\n",
      "   ...\n",
      "   [234 235 230]\n",
      "   [234 235 230]\n",
      "   [234 235 230]]\n",
      "\n",
      "  [[235 235 233]\n",
      "   [235 235 233]\n",
      "   [235 235 233]\n",
      "   ...\n",
      "   [234 235 230]\n",
      "   [234 235 230]\n",
      "   [234 235 230]]\n",
      "\n",
      "  ...\n",
      "\n",
      "  [[227 176 145]\n",
      "   [220 169 138]\n",
      "   [210 159 128]\n",
      "   ...\n",
      "   [184 138 114]\n",
      "   [200 155 127]\n",
      "   [215 170 141]]\n",
      "\n",
      "  [[223 172 141]\n",
      "   [216 165 134]\n",
      "   [205 154 123]\n",
      "   ...\n",
      "   [184 136 113]\n",
      "   [195 150 123]\n",
      "   [210 164 137]]\n",
      "\n",
      "  [[221 170 139]\n",
      "   [213 162 131]\n",
      "   [202 151 120]\n",
      "   ...\n",
      "   [182 135 111]\n",
      "   [191 145 119]\n",
      "   [205 159 133]]]\n",
      "\n",
      "\n",
      " [[[255 255 255]\n",
      "   [255 255 255]\n",
      "   [255 255 255]\n",
      "   ...\n",
      "   [255 255 255]\n",
      "   [255 255 255]\n",
      "   [255 255 255]]\n",
      "\n",
      "  [[255 255 255]\n",
      "   [255 255 255]\n",
      "   [255 255 255]\n",
      "   ...\n",
      "   [255 255 255]\n",
      "   [255 255 255]\n",
      "   [255 255 255]]\n",
      "\n",
      "  [[255 255 255]\n",
      "   [255 255 255]\n",
      "   [255 255 255]\n",
      "   ...\n",
      "   [255 255 255]\n",
      "   [255 255 255]\n",
      "   [255 255 255]]\n",
      "\n",
      "  ...\n",
      "\n",
      "  [[255 255 255]\n",
      "   [255 255 255]\n",
      "   [255 255 255]\n",
      "   ...\n",
      "   [255 255 255]\n",
      "   [255 255 255]\n",
      "   [255 255 255]]\n",
      "\n",
      "  [[255 255 255]\n",
      "   [255 255 255]\n",
      "   [255 255 255]\n",
      "   ...\n",
      "   [255 255 255]\n",
      "   [255 255 255]\n",
      "   [255 255 255]]\n",
      "\n",
      "  [[255 255 255]\n",
      "   [255 255 255]\n",
      "   [255 255 255]\n",
      "   ...\n",
      "   [255 255 255]\n",
      "   [255 255 255]\n",
      "   [255 255 255]]]\n",
      "\n",
      "\n",
      " [[[244 245 250]\n",
      "   [245 246 251]\n",
      "   [246 247 252]\n",
      "   ...\n",
      "   [ 26 208 228]\n",
      "   [ 61 222 236]\n",
      "   [ 71 199 212]]\n",
      "\n",
      "  [[235 236 240]\n",
      "   [237 238 242]\n",
      "   [246 247 251]\n",
      "   ...\n",
      "   [ 15 210 222]\n",
      "   [ 93 233 246]\n",
      "   [101 209 229]]\n",
      "\n",
      "  [[238 239 243]\n",
      "   [239 240 243]\n",
      "   [243 244 248]\n",
      "   ...\n",
      "   [ 28 220 239]\n",
      "   [ 58 221 241]\n",
      "   [ 72 216 240]]\n",
      "\n",
      "  ...\n",
      "\n",
      "  [[228 241 244]\n",
      "   [228 239 243]\n",
      "   [224 237 241]\n",
      "   ...\n",
      "   [239 244 248]\n",
      "   [238 244 248]\n",
      "   [238 243 248]]\n",
      "\n",
      "  [[255 254 249]\n",
      "   [255 255 251]\n",
      "   [255 255 252]\n",
      "   ...\n",
      "   [255 255 251]\n",
      "   [255 255 251]\n",
      "   [255 255 251]]\n",
      "\n",
      "  [[254 255 254]\n",
      "   [254 255 254]\n",
      "   [254 255 254]\n",
      "   ...\n",
      "   [255 254 254]\n",
      "   [255 253 254]\n",
      "   [255 253 254]]]\n",
      "\n",
      "\n",
      " ...\n",
      "\n",
      "\n",
      " [[[253 252 253]\n",
      "   [255 255 254]\n",
      "   [251 251 250]\n",
      "   ...\n",
      "   [251 250 251]\n",
      "   [253 253 252]\n",
      "   [255 255 254]]\n",
      "\n",
      "  [[253 250 251]\n",
      "   [231 229 218]\n",
      "   [219 216 197]\n",
      "   ...\n",
      "   [223 224 206]\n",
      "   [207 208 196]\n",
      "   [227 227 224]]\n",
      "\n",
      "  [[250 248 252]\n",
      "   [216 214 197]\n",
      "   [214 207 181]\n",
      "   ...\n",
      "   [221 219 190]\n",
      "   [170 169 153]\n",
      "   [195 194 197]]\n",
      "\n",
      "  ...\n",
      "\n",
      "  [[252 252 252]\n",
      "   [252 253 253]\n",
      "   [228 223 222]\n",
      "   ...\n",
      "   [171 166 163]\n",
      "   [241 244 244]\n",
      "   [255 255 255]]\n",
      "\n",
      "  [[255 255 255]\n",
      "   [254 254 254]\n",
      "   [254 255 255]\n",
      "   ...\n",
      "   [249 250 250]\n",
      "   [254 253 253]\n",
      "   [253 253 253]]\n",
      "\n",
      "  [[255 255 255]\n",
      "   [255 255 255]\n",
      "   [255 255 255]\n",
      "   ...\n",
      "   [255 255 255]\n",
      "   [255 255 255]\n",
      "   [255 255 255]]]\n",
      "\n",
      "\n",
      " [[[255 255 255]\n",
      "   [255 255 255]\n",
      "   [255 255 255]\n",
      "   ...\n",
      "   [255 255 255]\n",
      "   [255 255 255]\n",
      "   [255 255 255]]\n",
      "\n",
      "  [[255 255 255]\n",
      "   [255 255 255]\n",
      "   [255 255 255]\n",
      "   ...\n",
      "   [255 255 255]\n",
      "   [255 255 255]\n",
      "   [255 255 255]]\n",
      "\n",
      "  [[255 255 255]\n",
      "   [255 255 255]\n",
      "   [255 255 255]\n",
      "   ...\n",
      "   [255 255 255]\n",
      "   [255 255 255]\n",
      "   [255 255 255]]\n",
      "\n",
      "  ...\n",
      "\n",
      "  [[255 255 255]\n",
      "   [255 255 255]\n",
      "   [255 255 255]\n",
      "   ...\n",
      "   [255 255 255]\n",
      "   [255 255 255]\n",
      "   [255 255 255]]\n",
      "\n",
      "  [[255 255 255]\n",
      "   [255 255 255]\n",
      "   [255 255 255]\n",
      "   ...\n",
      "   [255 255 255]\n",
      "   [255 255 255]\n",
      "   [255 255 255]]\n",
      "\n",
      "  [[255 255 255]\n",
      "   [255 255 255]\n",
      "   [255 255 255]\n",
      "   ...\n",
      "   [255 255 255]\n",
      "   [255 255 255]\n",
      "   [255 255 255]]]\n",
      "\n",
      "\n",
      " [[[ 52  47  44]\n",
      "   [ 52  47  44]\n",
      "   [ 52  47  44]\n",
      "   ...\n",
      "   [ 59  52  46]\n",
      "   [ 54  48  43]\n",
      "   [ 57  52  47]]\n",
      "\n",
      "  [[ 52  47  44]\n",
      "   [ 52  47  44]\n",
      "   [ 56  51  48]\n",
      "   ...\n",
      "   [ 61  54  48]\n",
      "   [ 59  52  45]\n",
      "   [ 57  50  44]]\n",
      "\n",
      "  [[ 50  45  42]\n",
      "   [ 53  48  45]\n",
      "   [ 60  55  52]\n",
      "   ...\n",
      "   [ 63  56  50]\n",
      "   [ 63  54  47]\n",
      "   [ 58  50  43]]\n",
      "\n",
      "  ...\n",
      "\n",
      "  [[ 79  71  69]\n",
      "   [ 72  64  62]\n",
      "   [ 71  63  61]\n",
      "   ...\n",
      "   [ 79  74  71]\n",
      "   [ 75  70  67]\n",
      "   [ 76  71  68]]\n",
      "\n",
      "  [[ 76  68  66]\n",
      "   [ 69  61  59]\n",
      "   [ 74  66  64]\n",
      "   ...\n",
      "   [ 73  67  64]\n",
      "   [ 73  68  65]\n",
      "   [ 64  59  56]]\n",
      "\n",
      "  [[ 67  59  57]\n",
      "   [ 67  59  57]\n",
      "   [ 75  67  65]\n",
      "   ...\n",
      "   [ 69  61  59]\n",
      "   [ 66  61  58]\n",
      "   [ 65  60  57]]]]\n"
     ]
    }
   ],
   "source": [
    "print(X_train)"
   ]
  },
  {
   "cell_type": "code",
   "execution_count": 6,
   "id": "c5bf85ab",
   "metadata": {},
   "outputs": [
    {
     "name": "stdout",
     "output_type": "stream",
     "text": [
      "[0 0 0 ... 1 1 1]\n"
     ]
    }
   ],
   "source": [
    "print(y_train)"
   ]
  },
  {
   "cell_type": "code",
   "execution_count": 7,
   "id": "ea849760",
   "metadata": {},
   "outputs": [
    {
     "name": "stdout",
     "output_type": "stream",
     "text": [
      "[0 0 0 0 0 0 0 0 0 0 1 1 1 1 1 1 1 1 1 1 1 1 1]\n"
     ]
    }
   ],
   "source": [
    "print(y_train[0:22564:1000])"
   ]
  },
  {
   "cell_type": "code",
   "execution_count": 8,
   "id": "6a53f835",
   "metadata": {},
   "outputs": [
    {
     "name": "stdout",
     "output_type": "stream",
     "text": [
      "1\n"
     ]
    }
   ],
   "source": [
    "print(y_train.ndim)"
   ]
  },
  {
   "cell_type": "code",
   "execution_count": 9,
   "id": "cabd0dbb",
   "metadata": {},
   "outputs": [
    {
     "name": "stdout",
     "output_type": "stream",
     "text": [
      "(64, 64, 3)\n",
      "[[[235 235 233]\n",
      "  [235 235 233]\n",
      "  [237 237 235]\n",
      "  ...\n",
      "  [234 235 230]\n",
      "  [234 235 230]\n",
      "  [234 235 230]]\n",
      "\n",
      " [[235 235 233]\n",
      "  [235 235 233]\n",
      "  [236 236 234]\n",
      "  ...\n",
      "  [234 235 230]\n",
      "  [234 235 230]\n",
      "  [234 235 230]]\n",
      "\n",
      " [[235 235 233]\n",
      "  [235 235 233]\n",
      "  [235 235 233]\n",
      "  ...\n",
      "  [234 235 230]\n",
      "  [234 235 230]\n",
      "  [234 235 230]]\n",
      "\n",
      " ...\n",
      "\n",
      " [[227 176 145]\n",
      "  [220 169 138]\n",
      "  [210 159 128]\n",
      "  ...\n",
      "  [184 138 114]\n",
      "  [200 155 127]\n",
      "  [215 170 141]]\n",
      "\n",
      " [[223 172 141]\n",
      "  [216 165 134]\n",
      "  [205 154 123]\n",
      "  ...\n",
      "  [184 136 113]\n",
      "  [195 150 123]\n",
      "  [210 164 137]]\n",
      "\n",
      " [[221 170 139]\n",
      "  [213 162 131]\n",
      "  [202 151 120]\n",
      "  ...\n",
      "  [182 135 111]\n",
      "  [191 145 119]\n",
      "  [205 159 133]]]\n"
     ]
    }
   ],
   "source": [
    "print(X_train[0].shape)\n",
    "print(X_train[0])"
   ]
  },
  {
   "cell_type": "code",
   "execution_count": 10,
   "id": "b285b1d5",
   "metadata": {},
   "outputs": [
    {
     "name": "stdout",
     "output_type": "stream",
     "text": [
      "[[[0.92156863 0.92156863 0.9137255 ]\n",
      "  [0.92156863 0.92156863 0.9137255 ]\n",
      "  [0.92941177 0.92941177 0.92156863]\n",
      "  ...\n",
      "  [0.91764706 0.92156863 0.9019608 ]\n",
      "  [0.91764706 0.92156863 0.9019608 ]\n",
      "  [0.91764706 0.92156863 0.9019608 ]]\n",
      "\n",
      " [[0.92156863 0.92156863 0.9137255 ]\n",
      "  [0.92156863 0.92156863 0.9137255 ]\n",
      "  [0.9254902  0.9254902  0.91764706]\n",
      "  ...\n",
      "  [0.91764706 0.92156863 0.9019608 ]\n",
      "  [0.91764706 0.92156863 0.9019608 ]\n",
      "  [0.91764706 0.92156863 0.9019608 ]]\n",
      "\n",
      " [[0.92156863 0.92156863 0.9137255 ]\n",
      "  [0.92156863 0.92156863 0.9137255 ]\n",
      "  [0.92156863 0.92156863 0.9137255 ]\n",
      "  ...\n",
      "  [0.91764706 0.92156863 0.9019608 ]\n",
      "  [0.91764706 0.92156863 0.9019608 ]\n",
      "  [0.91764706 0.92156863 0.9019608 ]]\n",
      "\n",
      " ...\n",
      "\n",
      " [[0.8901961  0.6901961  0.5686275 ]\n",
      "  [0.8627451  0.6627451  0.5411765 ]\n",
      "  [0.8235294  0.62352943 0.5019608 ]\n",
      "  ...\n",
      "  [0.72156864 0.5411765  0.44705883]\n",
      "  [0.78431374 0.60784316 0.49803922]\n",
      "  [0.84313726 0.6666667  0.5529412 ]]\n",
      "\n",
      " [[0.8745098  0.6745098  0.5529412 ]\n",
      "  [0.84705883 0.64705884 0.5254902 ]\n",
      "  [0.8039216  0.6039216  0.48235294]\n",
      "  ...\n",
      "  [0.72156864 0.53333336 0.44313726]\n",
      "  [0.7647059  0.5882353  0.48235294]\n",
      "  [0.8235294  0.6431373  0.5372549 ]]\n",
      "\n",
      " [[0.8666667  0.6666667  0.54509807]\n",
      "  [0.8352941  0.63529414 0.5137255 ]\n",
      "  [0.7921569  0.5921569  0.47058824]\n",
      "  ...\n",
      "  [0.7137255  0.5294118  0.43529412]\n",
      "  [0.7490196  0.5686275  0.46666667]\n",
      "  [0.8039216  0.62352943 0.52156866]]]\n"
     ]
    }
   ],
   "source": [
    "X_train = X_train.astype('float32') / 255.0\n",
    "print(X_train[0])"
   ]
  },
  {
   "cell_type": "code",
   "execution_count": 11,
   "id": "615d8503",
   "metadata": {},
   "outputs": [],
   "source": [
    "def show_image(X, y, index):\n",
    "    classes = ['R', 'O']\n",
    "    plt.figure(figsize=(15,2))\n",
    "    plt.imshow(X[index])\n",
    "    plt.xlabel(classes[y[index]])"
   ]
  },
  {
   "cell_type": "code",
   "execution_count": 12,
   "id": "ddd5d308",
   "metadata": {},
   "outputs": [
    {
     "data": {
      "image/png": "[encoded data removed]",
      "text/plain": [
       "<Figure size 1500x200 with 1 Axes>"
      ]
     },
     "metadata": {},
     "output_type": "display_data"
    }
   ],
   "source": [
    "show_image(X_train, y_train, 0)"
   ]
  },
  {
   "cell_type": "markdown",
   "id": "1bd105be",
   "metadata": {},
   "source": [
    "### Classyfing using CNN\n",
    "\n",
    "without using dropout, batch_size so it may be prone to overfitting"
   ]
  },
  {
   "cell_type": "code",
   "execution_count": 13,
   "id": "345f9a70",
   "metadata": {},
   "outputs": [],
   "source": [
    "classification_model = Sequential([\n",
    "    Conv2D(filters=64, kernel_size = (3, 3), activation='relu', input_shape=(64, 64, 3)),\n",
    "    MaxPooling2D((3,3)),\n",
    "    Conv2D(filters=64, kernel_size = (3, 3), activation='relu'),\n",
    "    MaxPooling2D((3,3)),\n",
    "    \n",
    "    Flatten(),\n",
    "    Dense(128, activation='relu'),\n",
    "    Dense(64, activation='relu'),\n",
    "    Dense(2, activation='softmax')\n",
    "])"
   ]
  },
  {
   "cell_type": "code",
   "execution_count": 14,
   "id": "bebc4b81",
   "metadata": {},
   "outputs": [],
   "source": [
    "classification_model.compile(optimizer=\"adam\",\n",
    "                             loss='sparse_categorical_crossentropy',\n",
    "                             metrics=['accuracy'])"
   ]
  },
  {
   "cell_type": "code",
   "execution_count": 15,
   "id": "ddf501cf",
   "metadata": {},
   "outputs": [
    {
     "name": "stdout",
     "output_type": "stream",
     "text": [
      "Epoch 1/10\n",
      "706/706 [==============================] - 28s 39ms/step - loss: 0.4308 - accuracy: 0.8068\n",
      "Epoch 2/10\n",
      "706/706 [==============================] - 27s 38ms/step - loss: 0.3799 - accuracy: 0.8338\n",
      "Epoch 3/10\n",
      "706/706 [==============================] - 27s 38ms/step - loss: 0.3501 - accuracy: 0.8502\n",
      "Epoch 4/10\n",
      "706/706 [==============================] - 30s 43ms/step - loss: 0.3324 - accuracy: 0.8592\n",
      "Epoch 5/10\n",
      "706/706 [==============================] - 28s 39ms/step - loss: 0.3160 - accuracy: 0.8647\n",
      "Epoch 6/10\n",
      "706/706 [==============================] - 28s 40ms/step - loss: 0.2928 - accuracy: 0.8755\n",
      "Epoch 7/10\n",
      "706/706 [==============================] - 28s 39ms/step - loss: 0.2669 - accuracy: 0.8895\n",
      "Epoch 8/10\n",
      "706/706 [==============================] - 32s 45ms/step - loss: 0.2453 - accuracy: 0.9009\n",
      "Epoch 9/10\n",
      "706/706 [==============================] - 34s 48ms/step - loss: 0.2151 - accuracy: 0.9143\n",
      "Epoch 10/10\n",
      "706/706 [==============================] - 32s 46ms/step - loss: 0.1871 - accuracy: 0.9255\n"
     ]
    },
    {
     "data": {
      "text/plain": [
       "<keras.callbacks.History at 0x11704f2b9a0>"
      ]
     },
     "execution_count": 15,
     "metadata": {},
     "output_type": "execute_result"
    }
   ],
   "source": [
    "classification_model.fit(X_train, y_train, epochs=10)"
   ]
  },
  {
   "cell_type": "markdown",
   "id": "ae06287f",
   "metadata": {},
   "source": [
    "### let us test with our testing data"
   ]
  },
  {
   "cell_type": "code",
   "execution_count": 16,
   "id": "853bc8af",
   "metadata": {},
   "outputs": [
    {
     "name": "stderr",
     "output_type": "stream",
     "text": [
      "Loading R images: 100%|██████████| 1112/1112 [00:10<00:00, 102.08it/s]\n",
      "Loading O images: 100%|██████████| 1401/1401 [00:13<00:00, 104.62it/s]\n"
     ]
    }
   ],
   "source": [
    "X_test, y_test = load_data('DATASET/TEST')"
   ]
  },
  {
   "cell_type": "code",
   "execution_count": 17,
   "id": "3d8ba1eb",
   "metadata": {},
   "outputs": [
    {
     "name": "stdout",
     "output_type": "stream",
     "text": [
      "Training data shape: (2513, 64, 64, 3), Labels shape: (2513,)\n"
     ]
    }
   ],
   "source": [
    "print(f\"Training data shape: {X_test.shape}, Labels shape: {y_test.shape}\")"
   ]
  },
  {
   "cell_type": "code",
   "execution_count": 18,
   "id": "0394e71e",
   "metadata": {},
   "outputs": [
    {
     "name": "stdout",
     "output_type": "stream",
     "text": [
      "(64, 64, 3)\n",
      "[[[120  65  54]\n",
      "  [162 154 135]\n",
      "  [184 178 160]\n",
      "  ...\n",
      "  [186 178 161]\n",
      "  [167 161 141]\n",
      "  [123  78  64]]\n",
      "\n",
      " [[113  29  26]\n",
      "  [109  79  65]\n",
      "  [170 162 145]\n",
      "  ...\n",
      "  [177 170 152]\n",
      "  [116  92  76]\n",
      "  [110  35  27]]\n",
      "\n",
      " [[102  23  23]\n",
      "  [118  33  29]\n",
      "  [102  60  46]\n",
      "  ...\n",
      "  [103  60  51]\n",
      "  [121  35  30]\n",
      "  [109  23  23]]\n",
      "\n",
      " ...\n",
      "\n",
      " [[132 122 105]\n",
      "  [133 123 106]\n",
      "  [135 123 106]\n",
      "  ...\n",
      "  [137 124 108]\n",
      "  [135 122 106]\n",
      "  [134 121 105]]\n",
      "\n",
      " [[129 120 103]\n",
      "  [130 121 104]\n",
      "  [135 122 106]\n",
      "  ...\n",
      "  [135 122 106]\n",
      "  [133 120 104]\n",
      "  [132 119 103]]\n",
      "\n",
      " [[126 118 100]\n",
      "  [128 120 102]\n",
      "  [132 119 104]\n",
      "  ...\n",
      "  [133 121 105]\n",
      "  [130 119 102]\n",
      "  [128 117 100]]]\n"
     ]
    }
   ],
   "source": [
    "print(X_test[0].shape)\n",
    "print(X_test[0])"
   ]
  },
  {
   "cell_type": "code",
   "execution_count": 19,
   "id": "db398d87",
   "metadata": {},
   "outputs": [
    {
     "name": "stdout",
     "output_type": "stream",
     "text": [
      "(2513,)\n",
      "[0 0 1]\n",
      "1\n"
     ]
    }
   ],
   "source": [
    "print(y_test.shape)\n",
    "print(y_test[0:22564:1000])\n",
    "print(y_test.ndim)"
   ]
  },
  {
   "cell_type": "code",
   "execution_count": 20,
   "id": "5aeb9b44",
   "metadata": {},
   "outputs": [
    {
     "name": "stdout",
     "output_type": "stream",
     "text": [
      "79/79 [==============================] - 1s 11ms/step\n"
     ]
    }
   ],
   "source": [
    "from sklearn.metrics import classification_report, confusion_matrix\n",
    "y_pred = classification_model.predict(X_test)\n",
    "y_pred_classes = np.argmax(y_pred, axis=1)\n"
   ]
  },
  {
   "cell_type": "code",
   "execution_count": 21,
   "id": "2bba2b61",
   "metadata": {},
   "outputs": [
    {
     "data": {
      "image/png": "[encoded data removed]",
      "text/plain": [
       "<Figure size 1000x700 with 2 Axes>"
      ]
     },
     "metadata": {},
     "output_type": "display_data"
    },
    {
     "name": "stdout",
     "output_type": "stream",
     "text": [
      "              precision    recall  f1-score   support\n",
      "\n",
      "           R       0.83      0.79      0.81      1112\n",
      "           O       0.84      0.87      0.86      1401\n",
      "\n",
      "    accuracy                           0.84      2513\n",
      "   macro avg       0.84      0.83      0.83      2513\n",
      "weighted avg       0.84      0.84      0.84      2513\n",
      "\n"
     ]
    }
   ],
   "source": [
    "cm = confusion_matrix(y_test, y_pred_classes)\n",
    "plt.figure(figsize=(10, 7))\n",
    "sns.heatmap(cm, annot=True, fmt='d', cmap='Blues', xticklabels=['R', 'O'], yticklabels=['R', 'O'])\n",
    "plt.xlabel('Predicted')\n",
    "plt.ylabel('True')\n",
    "plt.title('Confusion Matrix')\n",
    "plt.show()\n",
    "print(classification_report(y_test, y_pred_classes, target_names=['R', 'O']))"
   ]
  }
 ],
 "metadata": {
  "kernelspec": {
   "display_name": "Python 3",
   "language": "python",
   "name": "python3"
  },
  "language_info": {
   "codemirror_mode": {
    "name": "ipython",
    "version": 3
   },
   "file_extension": ".py",
   "mimetype": "text/x-python",
   "name": "python",
   "nbconvert_exporter": "python",
   "pygments_lexer": "ipython3",
   "version": "3.11.9"
  }
 },
 "nbformat": 4,
 "nbformat_minor": 5
}
