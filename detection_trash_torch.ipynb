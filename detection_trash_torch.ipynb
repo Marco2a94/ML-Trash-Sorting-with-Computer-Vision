{
 "cells": [
  {
   "cell_type": "markdown",
   "id": "0d528c0d",
   "metadata": {},
   "source": [
    "# Trash Classification"
   ]
  },
  {
   "cell_type": "markdown",
   "id": "79987205",
   "metadata": {},
   "source": [
    "This notebook is detecated to find out if a given trash (via its image) is recyclable or not. We'll try to adapt the previous model to the torch library\n"
   ]
  },
  {
   "cell_type": "markdown",
   "id": "281d724a",
   "metadata": {},
   "source": [
    "## Importing modules"
   ]
  },
  {
   "cell_type": "code",
   "execution_count": 45,
   "id": "62839468",
   "metadata": {},
   "outputs": [],
   "source": [
    "import pandas as pd\n",
    "import numpy as np\n",
    "import os\n",
    "\n",
    "import torch\n",
    "from torch.utils.data import Dataset, DataLoader, random_split\n",
    "from torchvision import transforms\n",
    "import torch.nn as nn\n",
    "import torch.nn.functional as F\n",
    "\n",
    "import matplotlib.pyplot as plt\n",
    "import seaborn as sns\n",
    "from PIL import Image\n",
    "from tqdm import tqdm"
   ]
  },
  {
   "cell_type": "markdown",
   "id": "e06b5705",
   "metadata": {},
   "source": [
    "## Loading Data"
   ]
  },
  {
   "cell_type": "markdown",
   "id": "5cac3627",
   "metadata": {},
   "source": [
    "### Defining a function to retrieve data (downloaded from Kaggle)"
   ]
  },
  {
   "cell_type": "code",
   "execution_count": 40,
   "id": "3a47140a",
   "metadata": {},
   "outputs": [],
   "source": [
    "class TrashDataset(Dataset):\n",
    "    def __init__(self, dir_path, transform=None):\n",
    "        self.images = []\n",
    "        self.labels = []\n",
    "        self.transform = transform\n",
    "        class_map = {'R': 0, 'O': 1}\n",
    "\n",
    "        for label_folder in ['R', 'O']:\n",
    "            folder_path = os.path.join(dir_path, label_folder)\n",
    "            for file in os.listdir(folder_path):\n",
    "                self.images.append(os.path.join(folder_path, file))\n",
    "                self.labels.append(class_map[label_folder])\n",
    "\n",
    "    def __len__(self):\n",
    "        return len(self.images)\n",
    "\n",
    "    def __getitem__(self, idx):\n",
    "        image = Image.open(self.images[idx]).convert('RGB')\n",
    "        if self.transform:\n",
    "            image = self.transform(image)\n",
    "        label = self.labels[idx]\n",
    "        return image, label"
   ]
  },
  {
   "cell_type": "code",
   "execution_count": 41,
   "id": "0c884295",
   "metadata": {},
   "outputs": [],
   "source": [
    "transform = transforms.Compose([\n",
    "    transforms.Resize((64, 64)),\n",
    "    transforms.ToTensor(),\n",
    "])"
   ]
  },
  {
   "cell_type": "markdown",
   "id": "e8fc1c12",
   "metadata": {},
   "source": [
    "### CNN Model (equivalent to Sequential)"
   ]
  },
  {
   "cell_type": "code",
   "execution_count": 42,
   "id": "a20ce603",
   "metadata": {},
   "outputs": [],
   "source": [
    "class TrashCNN(nn.Module):\n",
    "    def __init__(self):\n",
    "        super(TrashCNN, self).__init__()\n",
    "        self.conv1 = nn.Conv2d(3, 32, kernel_size=3)\n",
    "        self.pool1 = nn.MaxPool2d(2)\n",
    "        self.conv2 = nn.Conv2d(32, 64, kernel_size=3)\n",
    "        self.pool2 = nn.MaxPool2d(2)\n",
    "        self.fc1 = nn.Linear(64 * 14 * 14, 128)\n",
    "        self.dropout = nn.Dropout(0.5)\n",
    "        self.fc2 = nn.Linear(128, 1)  # Pour binaire : 1 neurone\n",
    "\n",
    "    def forward(self, x):\n",
    "        x = self.pool1(F.relu(self.conv1(x)))\n",
    "        x = self.pool2(F.relu(self.conv2(x)))\n",
    "        x = x.view(-1, 64 * 14 * 14)\n",
    "        x = F.relu(self.fc1(x))\n",
    "        x = self.dropout(x)\n",
    "        x = torch.sigmoid(self.fc2(x))\n",
    "        return x\n"
   ]
  },
  {
   "cell_type": "markdown",
   "id": "0f30a440",
   "metadata": {},
   "source": [
    "### Model Training"
   ]
  },
  {
   "cell_type": "markdown",
   "id": "046db3dd",
   "metadata": {},
   "source": [
    "#### Preparing Data"
   ]
  },
  {
   "cell_type": "code",
   "execution_count": 43,
   "id": "8b60308a",
   "metadata": {},
   "outputs": [],
   "source": [
    "TRAIN_PATH = \"data/TRAIN\"\n",
    "TEST_PATH = \"data/TEST\""
   ]
  },
  {
   "cell_type": "code",
   "execution_count": 48,
   "id": "18b67ef6",
   "metadata": {},
   "outputs": [],
   "source": [
    "dataset = TrashDataset(TRAIN_PATH, transform=transform)\n",
    "train_len = int(0.8*len(dataset))\n",
    "val_len = len(dataset) - train_len\n",
    "train_dataset, val_dataset = random_split(dataset, [train_len, val_len])"
   ]
  },
  {
   "cell_type": "code",
   "execution_count": 49,
   "id": "a53980bf",
   "metadata": {},
   "outputs": [],
   "source": [
    "train_loader = DataLoader(train_dataset, batch_size=32, shuffle=True)\n",
    "val_loader = DataLoader(val_dataset, batch_size=32)"
   ]
  },
  {
   "cell_type": "markdown",
   "id": "e4b2bd9d",
   "metadata": {},
   "source": [
    "#### Initializing the model"
   ]
  },
  {
   "cell_type": "code",
   "execution_count": 52,
   "id": "41efc147",
   "metadata": {},
   "outputs": [],
   "source": [
    "model = TrashCNN()\n",
    "criterion = nn.BCELoss()\n",
    "optimizer = torch.optim.Adam(model.parameters(), lr=0.001)"
   ]
  },
  {
   "cell_type": "markdown",
   "id": "9ddd9e17",
   "metadata": {},
   "source": [
    "#### Training"
   ]
  },
  {
   "cell_type": "code",
   "execution_count": 54,
   "id": "a213b1f0",
   "metadata": {},
   "outputs": [
    {
     "name": "stdout",
     "output_type": "stream",
     "text": [
      "Epoch 1 - Loss: 0.2656 - Accuracy: 88.95%\n",
      "Epoch 2 - Loss: 0.2441 - Accuracy: 89.83%\n",
      "Epoch 3 - Loss: 0.2237 - Accuracy: 90.89%\n",
      "Epoch 4 - Loss: 0.1957 - Accuracy: 92.10%\n",
      "Epoch 5 - Loss: 0.1798 - Accuracy: 92.80%\n",
      "Epoch 6 - Loss: 0.1614 - Accuracy: 93.76%\n",
      "Epoch 7 - Loss: 0.1427 - Accuracy: 94.54%\n",
      "Epoch 8 - Loss: 0.1378 - Accuracy: 94.55%\n",
      "Epoch 9 - Loss: 0.1118 - Accuracy: 95.75%\n",
      "Epoch 10 - Loss: 0.1071 - Accuracy: 96.00%\n"
     ]
    }
   ],
   "source": [
    "for epoch in range(10):\n",
    "    model.train()\n",
    "    running_loss = 0.0\n",
    "    correct = 0\n",
    "    total = 0\n",
    "\n",
    "    for inputs, labels in train_loader:\n",
    "        labels = labels.float().unsqueeze(1)\n",
    "        outputs = model(inputs)\n",
    "        loss = criterion(outputs, labels)\n",
    "\n",
    "        optimizer.zero_grad()\n",
    "        loss.backward()\n",
    "        optimizer.step()\n",
    "\n",
    "        running_loss += loss.item()\n",
    "\n",
    "        # Calculating accuracy\n",
    "        predictions = (outputs >= 0.5).float()\n",
    "        correct += (predictions == labels).sum().item()\n",
    "        total += labels.size(0)\n",
    "    \n",
    "    accuracy = correct/total\n",
    "    print(f\"Epoch {epoch+1} - Loss: {running_loss/len(train_loader):.4f} - Accuracy: {accuracy*100:.2f}%\")"
   ]
  },
  {
   "cell_type": "code",
   "execution_count": null,
   "id": "4eebf171",
   "metadata": {},
   "outputs": [],
   "source": []
  }
 ],
 "metadata": {
  "kernelspec": {
   "display_name": "Python 3",
   "language": "python",
   "name": "python3"
  },
  "language_info": {
   "codemirror_mode": {
    "name": "ipython",
    "version": 3
   },
   "file_extension": ".py",
   "mimetype": "text/x-python",
   "name": "python",
   "nbconvert_exporter": "python",
   "pygments_lexer": "ipython3",
   "version": "3.11.9"
  }
 },
 "nbformat": 4,
 "nbformat_minor": 5
}
